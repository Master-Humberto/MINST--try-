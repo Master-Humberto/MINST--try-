{
 "cells": [
  {
   "cell_type": "code",
   "execution_count": 1,
   "metadata": {},
   "outputs": [
    {
     "name": "stdout",
     "output_type": "stream",
     "text": [
      "Epoch 100, Loss: 2.0046\n",
      "Epoch 200, Loss: 1.0682\n",
      "Epoch 300, Loss: 0.7958\n",
      "Epoch 400, Loss: 0.7000\n",
      "Epoch 500, Loss: 0.6530\n",
      "Epoch 600, Loss: 0.6253\n",
      "Epoch 700, Loss: 0.6070\n",
      "Epoch 800, Loss: 0.5941\n",
      "Epoch 900, Loss: 0.5844\n",
      "Epoch 1000, Loss: 0.5767\n",
      "Test Accuracy: 90.41% with lambda = 0.01\n",
      "Epoch 100, Loss: 2.0736\n",
      "Epoch 200, Loss: 1.1918\n",
      "Epoch 300, Loss: 0.9376\n",
      "Epoch 400, Loss: 0.8512\n",
      "Epoch 500, Loss: 0.8093\n",
      "Epoch 600, Loss: 0.7842\n",
      "Epoch 700, Loss: 0.7674\n",
      "Epoch 800, Loss: 0.7555\n",
      "Epoch 900, Loss: 0.7465\n",
      "Epoch 1000, Loss: 0.7397\n",
      "Test Accuracy: 89.99% with lambda = 0.02\n",
      "Epoch 100, Loss: 2.1325\n",
      "Epoch 200, Loss: 1.2978\n",
      "Epoch 300, Loss: 1.0556\n",
      "Epoch 400, Loss: 0.9743\n",
      "Epoch 500, Loss: 0.9351\n",
      "Epoch 600, Loss: 0.9118\n",
      "Epoch 700, Loss: 0.8964\n",
      "Epoch 800, Loss: 0.8856\n",
      "Epoch 900, Loss: 0.8778\n",
      "Epoch 1000, Loss: 0.8720\n",
      "Test Accuracy: 89.49% with lambda = 0.03\n",
      "Epoch 100, Loss: 2.1827\n",
      "Epoch 200, Loss: 1.3897\n",
      "Epoch 300, Loss: 1.1565\n",
      "Epoch 400, Loss: 1.0789\n",
      "Epoch 500, Loss: 1.0422\n",
      "Epoch 600, Loss: 1.0211\n",
      "Epoch 700, Loss: 1.0077\n",
      "Epoch 800, Loss: 0.9985\n",
      "Epoch 900, Loss: 0.9920\n",
      "Epoch 1000, Loss: 0.9873\n",
      "Test Accuracy: 89.09% with lambda = 0.04\n",
      "Epoch 100, Loss: 2.2251\n",
      "Epoch 200, Loss: 1.4704\n",
      "Epoch 300, Loss: 1.2450\n",
      "Epoch 400, Loss: 1.1710\n",
      "Epoch 500, Loss: 1.1370\n",
      "Epoch 600, Loss: 1.1184\n",
      "Epoch 700, Loss: 1.1071\n",
      "Epoch 800, Loss: 1.0996\n",
      "Epoch 900, Loss: 1.0943\n",
      "Epoch 1000, Loss: 1.0905\n",
      "Test Accuracy: 88.57% with lambda = 0.05\n",
      "Best Test Accuracy: 90.41%\n"
     ]
    }
   ],
   "source": [
    "import cupy as cp\n",
    "\n",
    "# Use numpy instead of cupy if you don't have a GPU\n",
    "def relu(x):\n",
    "    return cp.maximum(0, x)\n",
    "\n",
    "def relu_derivative(x):\n",
    "    return cp.where(x > 0, 1, 0)\n",
    "\n",
    "def softmax(x):\n",
    "    e_x = cp.exp(x - cp.max(x, axis=1, keepdims=True))\n",
    "    return e_x / cp.sum(e_x, axis=1, keepdims=True)\n",
    "\n",
    "def cross_entropy_loss(predictions, targets):\n",
    "    return -cp.sum(targets * cp.log(predictions + 1e-9)) / targets.shape[0]\n",
    "\n",
    "def cross_entropy_loss_with_regularization(predictions, targets, W1, W2, reg_lambda):\n",
    "    loss = cross_entropy_loss(predictions, targets)\n",
    "    reg_loss = 0.5 * reg_lambda * (cp.sum(W1**2) + cp.sum(W2**2))\n",
    "    return loss + reg_loss\n",
    "\n",
    "def predict(x, W1, b1, W2, b2):\n",
    "    z1 = cp.dot(x, W1.T) + b1\n",
    "    a1 = relu(z1)\n",
    "    z2 = cp.dot(a1, W2.T) + b2\n",
    "    y_hat = softmax(z2)\n",
    "    return cp.argmax(y_hat, axis=1)\n",
    "\n",
    "def initialize_parameters(n_input=784, n_hidden=128, n_output=10):\n",
    "    cp.random.seed(42)\n",
    "    W1 = cp.random.randn(n_hidden, n_input) * 0.01\n",
    "    b1 = cp.zeros(n_hidden)\n",
    "    W2 = cp.random.randn(n_output, n_hidden) * 0.01\n",
    "    b2 = cp.zeros(n_output)\n",
    "    return W1, b1, W2, b2\n",
    "\n",
    "def forward_propagation(x, W1, b1, W2, b2):\n",
    "    z1 = cp.dot(x, W1.T) + b1\n",
    "    a1 = relu(z1)\n",
    "    z2 = cp.dot(a1, W2.T) + b2\n",
    "    y_hat = softmax(z2)\n",
    "    return z1, a1, z2, y_hat\n",
    "\n",
    "def backward_propagation(x, y, W1, b1, W2, b2, a1, y_hat, reg_lambda):\n",
    "    m = x.shape[0]\n",
    "    delta_2 = y_hat - y\n",
    "    dW2 = cp.dot(delta_2.T, a1) / m + reg_lambda * W2\n",
    "    db2 = cp.sum(delta_2, axis=0) / m\n",
    "    delta_1 = cp.dot(delta_2, W2) * relu_derivative(a1)\n",
    "    dW1 = cp.dot(delta_1.T, x) / m + reg_lambda * W1\n",
    "    db1 = cp.sum(delta_1, axis=0) / m\n",
    "    return dW1, db1, dW2, db2\n",
    "\n",
    "def load_mnist():\n",
    "    from tensorflow.keras.datasets import mnist\n",
    "    (x_train, y_train), (x_test, y_test) = mnist.load_data()\n",
    "    x_train = cp.asarray(x_train.reshape(-1, 784) / 255.0)\n",
    "    x_test = cp.asarray(x_test.reshape(-1, 784) / 255.0)\n",
    "    y_train = cp.eye(10)[y_train]\n",
    "    y_test = cp.eye(10)[y_test]\n",
    "    return x_train, y_train, x_test, y_test\n",
    "\n",
    "def train(x_train, y_train, W1, b1, W2, b2, eta, epochs, reg_lambda):\n",
    "    for epoch in range(epochs):\n",
    "        z1, a1, z2, y_hat = forward_propagation(x_train, W1, b1, W2, b2)\n",
    "        loss = cross_entropy_loss_with_regularization(y_hat, y_train, W1, W2, reg_lambda)\n",
    "        dW1, db1, dW2, db2 = backward_propagation(x_train, y_train, W1, b1, W2, b2, a1, y_hat, reg_lambda)\n",
    "        W1 -= eta * dW1\n",
    "        b1 -= eta * db1\n",
    "        W2 -= eta * dW2\n",
    "        b2 -= eta * db2\n",
    "        if (epoch + 1) % 100 == 0:\n",
    "            print(f\"Epoch {epoch + 1}, Loss: {loss:.4f}\")\n",
    "    return W1, b1, W2, b2\n",
    "\n",
    "if __name__ == \"__main__\":\n",
    "    x_train, y_train, x_test, y_test = load_mnist()\n",
    "    n_input, n_hidden, n_output = 784, 128, 10\n",
    "    eta = 0.05\n",
    "    epochs = 1000\n",
    "    lambdas = [0.01, 0.02, 0.03, 0.04, 0.05]\n",
    "    best_accuracy = 0\n",
    "    best_params = None\n",
    "\n",
    "    for reg_lambda in lambdas:\n",
    "        W1, b1, W2, b2 = initialize_parameters(n_input, n_hidden, n_output)\n",
    "        W1, b1, W2, b2 = train(x_train, y_train, W1, b1, W2, b2, eta, epochs, reg_lambda)\n",
    "        predictions = predict(x_test, W1, b1, W2, b2)\n",
    "        test_labels = cp.argmax(y_test, axis=1)\n",
    "        accuracy = cp.mean(predictions == test_labels)\n",
    "        print(f\"Test Accuracy: {accuracy * 100:.2f}% with lambda = {reg_lambda}\")\n",
    "\n",
    "        if accuracy > best_accuracy:\n",
    "            best_accuracy = accuracy\n",
    "            best_params = (W1, b1, W2, b2)\n",
    "\n",
    "    print(f\"Best Test Accuracy: {best_accuracy * 100:.2f}%\")"
   ]
  },
  {
   "cell_type": "code",
   "execution_count": 2,
   "metadata": {},
   "outputs": [
    {
     "data": {
      "image/png": "[encoded data removed]",
      "text/plain": [
       "<Figure size 2000x200 with 10 Axes>"
      ]
     },
     "metadata": {},
     "output_type": "display_data"
    }
   ],
   "source": [
    "import matplotlib.pyplot as plt\n",
    "import numpy as np \n",
    "x_train, y_train, x_test, y_test = load_mnist()\n",
    "# print(biggest_accuracy)\n",
    "fig, axes = plt.subplots(1, 10, figsize=(20, 2))\n",
    "for i, ax in enumerate(axes):\n",
    "    ax.imshow(x_train[i].reshape(28, 28).get(), cmap='gray')\n",
    "    ax.axis('off')\n",
    "    ax.set_title(f'Label: {np.argmax(y_train[i])}')\n",
    "\n",
    "plt.show()\n"
   ]
  },
  {
   "cell_type": "code",
   "execution_count": 3,
   "metadata": {},
   "outputs": [
    {
     "data": {
      "image/png": "[encoded data removed]",
      "text/plain": [
       "<Figure size 1600x200 with 8 Axes>"
      ]
     },
     "metadata": {},
     "output_type": "display_data"
    }
   ],
   "source": [
    "import matplotlib.pyplot as plt\n",
    "\n",
    "x_train, y_train, x_test, y_test = load_mnist()\n",
    "\n",
    "fig, axes = plt.subplots(1, 8, figsize=(16, 2))\n",
    "for i, ax in enumerate(axes):\n",
    "    ax.imshow(x_test[i].reshape(28, 28).get(), cmap='gray')\n",
    "    ax.axis('off')\n",
    "    ax.set_title(f'Label: {np.argmax(y_test[i])}')\n",
    "\n",
    "plt.show()"
   ]
  },
  {
   "cell_type": "code",
   "execution_count": 4,
   "metadata": {},
   "outputs": [
    {
     "name": "stdout",
     "output_type": "stream",
     "text": [
      "Accuracy: 90.41%\n"
     ]
    },
    {
     "data": {
      "image/png": "[encoded data removed]",
      "text/plain": [
       "<Figure size 1600x200 with 8 Axes>"
      ]
     },
     "metadata": {},
     "output_type": "display_data"
    }
   ],
   "source": [
    "import matplotlib.pyplot as plt\n",
    "import cupy as cp\n",
    "\n",
    "W1, b1, W2, b2 = best_params\n",
    "test_predictions = predict(x_test, W1, b1, W2, b2)\n",
    "test_labels = cp.argmax(y_test, axis=1)  \n",
    "accuracy = cp.mean(test_predictions == test_labels)  \n",
    "print(f\"Accuracy: {100 * accuracy.get():.2f}%\")  \n",
    "\n",
    "fig, axes = plt.subplots(1, 8, figsize=(16, 2))\n",
    "for i, ax in enumerate(axes):\n",
    "   \n",
    "    ax.imshow(cp.asnumpy(x_test[i]).reshape(28, 28), cmap='gray')\n",
    "    ax.axis('off')\n",
    "   \n",
    "    ax.set_title(f'Pred: {int(test_predictions[i].get())}\\nTrue: {int(test_labels[i].get())}')\n",
    "\n",
    "plt.show()\n"
   ]
  },
  {
   "cell_type": "code",
   "execution_count": null,
   "metadata": {},
   "outputs": [],
   "source": []
  },
  {
   "cell_type": "code",
   "execution_count": null,
   "metadata": {},
   "outputs": [],
   "source": []
  }
 ],
 "metadata": {
  "kernelspec": {
   "display_name": "Python 3",
   "language": "python",
   "name": "python3"
  },
  "language_info": {
   "codemirror_mode": {
    "name": "ipython",
    "version": 3
   },
   "file_extension": ".py",
   "mimetype": "text/x-python",
   "name": "python",
   "nbconvert_exporter": "python",
   "pygments_lexer": "ipython3",
   "version": "3.11.9"
  }
 },
 "nbformat": 4,
 "nbformat_minor": 2
}
