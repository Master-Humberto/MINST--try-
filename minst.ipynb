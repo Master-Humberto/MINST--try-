{
 "cells": [
  {
   "cell_type": "code",
   "execution_count": 430,
   "metadata": {},
   "outputs": [],
   "source": [
    "import numpy as np \n",
    "import matplotlib.pyplot as plt\n",
    "# imports the necessary libraries"
   ]
  },
  {
   "cell_type": "markdown",
   "metadata": {},
   "source": [
    "<h1> Load the datasets and plot some examples</h1>"
   ]
  },
  {
   "cell_type": "code",
   "execution_count": 431,
   "metadata": {},
   "outputs": [
    {
     "data": {
      "image/png": "[encoded data removed]",
      "text/plain": [
       "<Figure size 640x480 with 10 Axes>"
      ]
     },
     "metadata": {},
     "output_type": "display_data"
    }
   ],
   "source": [
    "with open(\"t10k-images.idx3-ubyte\", \"rb\") as f:\n",
    "    test_images = f.read()\n",
    "\n",
    "with open(\"t10k-labels.idx1-ubyte\", \"rb\") as f:\n",
    "    test_labels = f.read()\n",
    "\n",
    "with open(\"train-images.idx3-ubyte\", \"rb\") as f:\n",
    "    train_images = f.read()\n",
    "\n",
    "with open(\"train-labels.idx1-ubyte\", \"rb\") as f:\n",
    "    train_labels = f.read()\n",
    "\n",
    "# opens the files and reads them\n",
    "\n",
    "train_images = np.frombuffer(train_images, dtype=np.uint8, offset=16).reshape(-1, 28, 28)\n",
    "train_labels = np.frombuffer(train_labels, dtype=np.uint8, offset=8)\n",
    "test_images = np.frombuffer(test_images, dtype=np.uint8, offset=16).reshape(-1, 28, 28)\n",
    "test_labels = np.frombuffer(test_labels, dtype=np.uint8, offset=8)\n",
    "\n",
    "# reshapes the data into a 28x28 matrix\n",
    "\n",
    "for i in range(10):\n",
    "    plt.subplot(2, 5, i+1)\n",
    "    plt.imshow(test_images[i], cmap='gray')\n",
    "    plt.title(test_labels[i])\n",
    "    plt.axis('off')\n",
    "\n",
    "plt.show()\n"
   ]
  },
  {
   "cell_type": "code",
   "execution_count": 432,
   "metadata": {},
   "outputs": [
    {
     "name": "stdout",
     "output_type": "stream",
     "text": [
      "Our m_train is 60000\n",
      "Our m_test is 10000\n",
      "784\n",
      "X total features 784\n",
      "X total features 784\n",
      "One-hot encoded y_train:\n",
      "[[0. 0. 0. ... 0. 0. 0.]\n",
      " [1. 0. 0. ... 0. 0. 0.]\n",
      " [0. 0. 0. ... 0. 0. 0.]\n",
      " ...\n",
      " [0. 0. 0. ... 0. 0. 0.]\n",
      " [0. 0. 0. ... 0. 0. 0.]\n",
      " [0. 0. 0. ... 0. 1. 0.]]\n",
      "\n",
      "One-hot encoded y_test:\n",
      "[[0. 0. 0. ... 1. 0. 0.]\n",
      " [0. 0. 1. ... 0. 0. 0.]\n",
      " [0. 1. 0. ... 0. 0. 0.]\n",
      " ...\n",
      " [0. 0. 0. ... 0. 0. 0.]\n",
      " [0. 0. 0. ... 0. 0. 0.]\n",
      " [0. 0. 0. ... 0. 0. 0.]]\n"
     ]
    }
   ],
   "source": [
    "X_train = train_images.reshape(-1, 28*28).T\n",
    "X_test = test_images.reshape(-1, 28*28).T\n",
    "y_train = train_labels\n",
    "y_test = test_labels\n",
    "\n",
    "X_train_flatten = X_train.reshape(X_train.shape[0], -1).T\n",
    "X_test_flatten = X_test.reshape(X_test.shape[0], -1).T\n",
    "\n",
    "m_train = X_train.shape[1]\n",
    "print(f\"Our m_train is {m_train}\")\n",
    "m_test = X_test.shape[1]\n",
    "print(f\"Our m_test is {m_test}\")\n",
    "print(28*28)\n",
    "X_features_train = X_train.shape[0]\n",
    "print(f\"X total features {X_features_train}\")\n",
    "X_features_test = X_test.shape[0]\n",
    "print(f\"X total features {X_features_test}\")\n",
    "\n",
    "num_classes = 10\n",
    "\n",
    "y_train_encoded = np.zeros((len(y_train), num_classes))\n",
    "y_train_encoded[np.arange(len(y_train)), y_train] = 1\n",
    "\n",
    "y_test_encoded = np.zeros((len(y_test), num_classes))\n",
    "y_test_encoded[np.arange(len(y_test)), y_test] = 1\n",
    "\n",
    "print(\"One-hot encoded y_train:\")\n",
    "print(y_train_encoded)\n",
    "\n",
    "print(\"\\nOne-hot encoded y_test:\")\n",
    "print(y_test_encoded)"
   ]
  },
  {
   "cell_type": "markdown",
   "metadata": {},
   "source": [
    "<h1> Get the necessary functions to this work properly </h1>"
   ]
  },
  {
   "cell_type": "code",
   "execution_count": 433,
   "metadata": {},
   "outputs": [
    {
     "name": "stdout",
     "output_type": "stream",
     "text": [
      "Epoch 0, Loss: 2.302835538008445\n",
      "Epoch 100, Loss: 2.290454936562869\n"
     ]
    },
    {
     "ename": "KeyboardInterrupt",
     "evalue": "",
     "output_type": "error",
     "traceback": [
      "\u001b[1;31m---------------------------------------------------------------------------\u001b[0m",
      "\u001b[1;31mKeyboardInterrupt\u001b[0m                         Traceback (most recent call last)",
      "Cell \u001b[1;32mIn[433], line 97\u001b[0m\n\u001b[0;32m     95\u001b[0m eta \u001b[38;5;241m=\u001b[39m \u001b[38;5;241m0.01\u001b[39m\n\u001b[0;32m     96\u001b[0m epochs \u001b[38;5;241m=\u001b[39m \u001b[38;5;241m1000\u001b[39m\n\u001b[1;32m---> 97\u001b[0m W1, b1, W2, b2 \u001b[38;5;241m=\u001b[39m \u001b[43mtrain\u001b[49m\u001b[43m(\u001b[49m\u001b[43mx_train\u001b[49m\u001b[43m,\u001b[49m\u001b[43m \u001b[49m\u001b[43my_train\u001b[49m\u001b[43m,\u001b[49m\u001b[43m \u001b[49m\u001b[43mW1\u001b[49m\u001b[43m,\u001b[49m\u001b[43m \u001b[49m\u001b[43mb1\u001b[49m\u001b[43m,\u001b[49m\u001b[43m \u001b[49m\u001b[43mW2\u001b[49m\u001b[43m,\u001b[49m\u001b[43m \u001b[49m\u001b[43mb2\u001b[49m\u001b[43m,\u001b[49m\u001b[43m \u001b[49m\u001b[43meta\u001b[49m\u001b[43m,\u001b[49m\u001b[43m \u001b[49m\u001b[43mepochs\u001b[49m\u001b[43m)\u001b[49m\n\u001b[0;32m     99\u001b[0m \u001b[38;5;66;03m# Final prediction on the test set\u001b[39;00m\n\u001b[0;32m    100\u001b[0m test_predictions \u001b[38;5;241m=\u001b[39m predict(x_test, W1, b1, W2, b2)\n",
      "Cell \u001b[1;32mIn[433], line 63\u001b[0m, in \u001b[0;36mtrain\u001b[1;34m(x_train, y_train, W1, b1, W2, b2, eta, epochs)\u001b[0m\n\u001b[0;32m     61\u001b[0m \u001b[38;5;28;01mfor\u001b[39;00m epoch \u001b[38;5;129;01min\u001b[39;00m \u001b[38;5;28mrange\u001b[39m(epochs):\n\u001b[0;32m     62\u001b[0m     z1, a1, z2, y_hat \u001b[38;5;241m=\u001b[39m forward_propagation(x_train, W1, b1, W2, b2)\n\u001b[1;32m---> 63\u001b[0m     dW1, db1, dW2, db2 \u001b[38;5;241m=\u001b[39m \u001b[43mbackward_propagation\u001b[49m\u001b[43m(\u001b[49m\u001b[43mx_train\u001b[49m\u001b[43m,\u001b[49m\u001b[43m \u001b[49m\u001b[43my_train\u001b[49m\u001b[43m,\u001b[49m\u001b[43m \u001b[49m\u001b[43mW1\u001b[49m\u001b[43m,\u001b[49m\u001b[43m \u001b[49m\u001b[43mb1\u001b[49m\u001b[43m,\u001b[49m\u001b[43m \u001b[49m\u001b[43mW2\u001b[49m\u001b[43m,\u001b[49m\u001b[43m \u001b[49m\u001b[43mb2\u001b[49m\u001b[43m,\u001b[49m\u001b[43m \u001b[49m\u001b[43ma1\u001b[49m\u001b[43m,\u001b[49m\u001b[43m \u001b[49m\u001b[43my_hat\u001b[49m\u001b[43m)\u001b[49m\n\u001b[0;32m     65\u001b[0m     \u001b[38;5;66;03m# Update weights and biases\u001b[39;00m\n\u001b[0;32m     66\u001b[0m     W1 \u001b[38;5;241m-\u001b[39m\u001b[38;5;241m=\u001b[39m eta \u001b[38;5;241m*\u001b[39m dW1\n",
      "Cell \u001b[1;32mIn[433], line 53\u001b[0m, in \u001b[0;36mbackward_propagation\u001b[1;34m(x, y, W1, b1, W2, b2, a1, y_hat)\u001b[0m\n\u001b[0;32m     50\u001b[0m db2 \u001b[38;5;241m=\u001b[39m np\u001b[38;5;241m.\u001b[39msum(delta_2, axis\u001b[38;5;241m=\u001b[39m\u001b[38;5;241m0\u001b[39m) \u001b[38;5;241m/\u001b[39m m\n\u001b[0;32m     52\u001b[0m \u001b[38;5;66;03m# Hidden layer gradients\u001b[39;00m\n\u001b[1;32m---> 53\u001b[0m delta_1 \u001b[38;5;241m=\u001b[39m \u001b[43mnp\u001b[49m\u001b[38;5;241;43m.\u001b[39;49m\u001b[43mdot\u001b[49m\u001b[43m(\u001b[49m\u001b[43mdelta_2\u001b[49m\u001b[43m,\u001b[49m\u001b[43m \u001b[49m\u001b[43mW2\u001b[49m\u001b[43m)\u001b[49m \u001b[38;5;241m*\u001b[39m relu_derivative(a1)\n\u001b[0;32m     54\u001b[0m dW1 \u001b[38;5;241m=\u001b[39m np\u001b[38;5;241m.\u001b[39mdot(delta_1\u001b[38;5;241m.\u001b[39mT, x) \u001b[38;5;241m/\u001b[39m m\n\u001b[0;32m     55\u001b[0m db1 \u001b[38;5;241m=\u001b[39m np\u001b[38;5;241m.\u001b[39msum(delta_1, axis\u001b[38;5;241m=\u001b[39m\u001b[38;5;241m0\u001b[39m) \u001b[38;5;241m/\u001b[39m m\n",
      "\u001b[1;31mKeyboardInterrupt\u001b[0m: "
     ]
    }
   ],
   "source": []
  }
 ],
 "metadata": {
  "kernelspec": {
   "display_name": "Python 3",
   "language": "python",
   "name": "python3"
  },
  "language_info": {
   "codemirror_mode": {
    "name": "ipython",
    "version": 3
   },
   "file_extension": ".py",
   "mimetype": "text/x-python",
   "name": "python",
   "nbconvert_exporter": "python",
   "pygments_lexer": "ipython3",
   "version": "3.11.9"
  }
 },
 "nbformat": 4,
 "nbformat_minor": 2
}
